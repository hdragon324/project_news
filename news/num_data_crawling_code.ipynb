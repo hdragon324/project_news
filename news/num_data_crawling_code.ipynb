{
 "cells": [
  {
   "cell_type": "code",
   "execution_count": 1,
   "metadata": {},
   "outputs": [],
   "source": [
    "from bs4 import BeautifulSoup\n",
    "import requests\n",
    "import json\n",
    "header = {\n",
    "    'User-Agent':'Mozilla/5.0 (Windows NT 10.0; Win64; x64) AppleWebKit/537.36 (KHTML, like Gecko) Chrome/131.0.0.0 Safari/537.36'\n",
    "}\n",
    "symbol = {'다우 산업':'DJI@DJI',\n",
    "        '나스닥 종합':'NAS@IXIC',\n",
    "        'S&P 500':'SPI@SPX'\n",
    "}\n",
    "result = {}\n",
    "def info_crawl(symbol):\n",
    "    num, count = 1, 0\n",
    "    infos = []\n",
    "    while count <= 240:\n",
    "        URL = f'https://finance.naver.com/world/worldDayListJson.naver?symbol={symbol}&fdtc=0&page={num}'\n",
    "        response = requests.get(URL, headers=header)\n",
    "        text = response.json()\n",
    "        num += 1\n",
    "        for info in text:\n",
    "            info_data = {\n",
    "                '날짜':info['xymd'],\n",
    "                '종가':info['clos'],\n",
    "                '전일대비':info['diff'],\n",
    "                '시가':info['open'],\n",
    "                '고가':info['high'],\n",
    "                '저가':info['low'],\n",
    "            }\n",
    "            infos.append(info_data)\n",
    "            count += 1\n",
    "    return infos\n",
    "for k, v in symbol.items():\n",
    "     info_result = []\n",
    "     info_result += info_crawl(v)\n",
    "     result[k] = info_result\n",
    "with open('financial_crawl.json', 'w', encoding='utf-8') as file:\n",
    "    json.dump(result, file, indent=4, ensure_ascii=False)"
   ]
  },
  {
   "cell_type": "code",
   "execution_count": null,
   "metadata": {},
   "outputs": [],
   "source": []
  },
  {
   "cell_type": "code",
   "execution_count": null,
   "metadata": {},
   "outputs": [],
   "source": []
  }
 ],
 "metadata": {
  "kernelspec": {
   "display_name": "study2",
   "language": "python",
   "name": "python3"
  },
  "language_info": {
   "codemirror_mode": {
    "name": "ipython",
    "version": 3
   },
   "file_extension": ".py",
   "mimetype": "text/x-python",
   "name": "python",
   "nbconvert_exporter": "python",
   "pygments_lexer": "ipython3",
   "version": "3.12.7"
  }
 },
 "nbformat": 4,
 "nbformat_minor": 2
}
